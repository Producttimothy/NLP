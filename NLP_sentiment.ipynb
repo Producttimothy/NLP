{
 "cells": [
  {
   "cell_type": "code",
   "execution_count": 1,
   "id": "78ed1403",
   "metadata": {},
   "outputs": [],
   "source": [
    "from textblob import TextBlob"
   ]
  },
  {
   "cell_type": "markdown",
   "id": "71235d47",
   "metadata": {},
   "source": [
    "Natural Language Processing (NLP) is promarily concerned with the processing of hyman language by computers, in particular how computers can be programmed to process and analyse large amounts of natural language dota. "
   ]
  },
  {
   "cell_type": "code",
   "execution_count": 2,
   "id": "9f72f29a",
   "metadata": {},
   "outputs": [
    {
     "data": {
      "text/plain": [
       "Sentiment(polarity=0.14523809523809522, subjectivity=0.39047619047619053)"
      ]
     },
     "execution_count": 2,
     "metadata": {},
     "output_type": "execute_result"
    }
   ],
   "source": [
    "NLP = TextBlob(\"Natural Language Processing (NLP) is promarily concerned with the processing of hyman language by computers, in particular how computers can be programmed to process and analyse large amounts of natural language dota.\")\n",
    "NLP.sentiment\n"
   ]
  },
  {
   "cell_type": "code",
   "execution_count": 3,
   "id": "cf0c4ded",
   "metadata": {},
   "outputs": [],
   "source": [
    "Happy = TextBlob(\"i love NLP :)\")"
   ]
  },
  {
   "cell_type": "code",
   "execution_count": 4,
   "id": "8e79f13a",
   "metadata": {},
   "outputs": [
    {
     "data": {
      "text/plain": [
       "Sentiment(polarity=0.5, subjectivity=0.8)"
      ]
     },
     "execution_count": 4,
     "metadata": {},
     "output_type": "execute_result"
    }
   ],
   "source": [
    "Happy.sentiment"
   ]
  },
  {
   "cell_type": "code",
   "execution_count": null,
   "id": "6fd704f8",
   "metadata": {},
   "outputs": [],
   "source": []
  }
 ],
 "metadata": {
  "kernelspec": {
   "display_name": "Python 3",
   "language": "python",
   "name": "python3"
  },
  "language_info": {
   "codemirror_mode": {
    "name": "ipython",
    "version": 3
   },
   "file_extension": ".py",
   "mimetype": "text/x-python",
   "name": "python",
   "nbconvert_exporter": "python",
   "pygments_lexer": "ipython3",
   "version": "3.8.5"
  }
 },
 "nbformat": 4,
 "nbformat_minor": 5
}
