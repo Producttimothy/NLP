{
 "cells": [
  {
   "cell_type": "code",
   "execution_count": 1,
   "id": "9ee3f696",
   "metadata": {},
   "outputs": [],
   "source": [
    "from textblob import TextBlob"
   ]
  },
  {
   "cell_type": "markdown",
   "id": "4fd90d0d",
   "metadata": {},
   "source": [
    "Natural Language Processing (NLP) is promarily concerned with the processing of hyman language by computers, in particular how computers can be programmed to process and analyse large amounts of natural language dota. "
   ]
  },
  {
   "cell_type": "code",
   "execution_count": 2,
   "id": "dfa4e29b",
   "metadata": {
    "scrolled": true
   },
   "outputs": [
    {
     "name": "stdout",
     "output_type": "stream",
     "text": [
      "Natural Language Processing (NLP) is primarily concerned with the processing of human language by computers, in particular how computers can be programme to process and analyse large amounts of natural language data. \n"
     ]
    }
   ],
   "source": [
    "spelling = TextBlob(\"Natural Language Processing (NLP) is promarily concerned with the processing of hyman language by computers, in particular how computers can be programmed to process and analyse large amounts of natural language dota. \")\n",
    "\n",
    "print(spelling.correct())"
   ]
  }
 ],
 "metadata": {
  "kernelspec": {
   "display_name": "Python 3",
   "language": "python",
   "name": "python3"
  },
  "language_info": {
   "codemirror_mode": {
    "name": "ipython",
    "version": 3
   },
   "file_extension": ".py",
   "mimetype": "text/x-python",
   "name": "python",
   "nbconvert_exporter": "python",
   "pygments_lexer": "ipython3",
   "version": "3.8.5"
  }
 },
 "nbformat": 4,
 "nbformat_minor": 5
}
